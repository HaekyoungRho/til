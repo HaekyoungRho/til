{
  "nbformat": 4,
  "nbformat_minor": 0,
  "metadata": {
    "colab": {
      "name": "DALC_Scalar_파이썬기초1_변수,자료형,연산자.ipynb",
      "provenance": [],
      "collapsed_sections": [],
      "toc_visible": true,
      "include_colab_link": true
    },
    "kernelspec": {
      "name": "python3",
      "display_name": "Python 3"
    }
  },
  "cells": [
    {
      "cell_type": "markdown",
      "metadata": {
        "id": "view-in-github",
        "colab_type": "text"
      },
      "source": [
        "<a href=\"https://colab.research.google.com/github/HaekyoungRho/til/blob/main/DALC_Scalar_%ED%8C%8C%EC%9D%B4%EC%8D%AC%EA%B8%B0%EC%B4%881_%EB%B3%80%EC%88%98%2C%EC%9E%90%EB%A3%8C%ED%98%95%2C%EC%97%B0%EC%82%B0%EC%9E%90.ipynb\" target=\"_parent\"><img src=\"https://colab.research.google.com/assets/colab-badge.svg\" alt=\"Open In Colab\"/></a>"
      ]
    },
    {
      "cell_type": "markdown",
      "metadata": {
        "id": "6XGDdKnJyGJF"
      },
      "source": [
        "# 변수, 자료형, 연산자\n",
        "\n"
      ]
    },
    {
      "cell_type": "markdown",
      "metadata": {
        "id": "HAstuUfPCTnB"
      },
      "source": [
        "\n",
        "\n",
        "---\n",
        "\n"
      ]
    },
    {
      "cell_type": "markdown",
      "metadata": {
        "id": "90qvtJp_yMg4"
      },
      "source": [
        "\n",
        "## 변수(Variables)\n",
        "\n",
        "![](data:image/jpeg;base64,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)"
      ]
    },
    {
      "cell_type": "code",
      "metadata": {
        "id": "Wnq3OFyHy3FV",
        "colab": {
          "base_uri": "https://localhost:8080/"
        },
        "outputId": "a7e73e9e-ca9b-4497-9473-992bd076e7cc"
      },
      "source": [
        "name = \"(노혜경)\"\n",
        "print(name)"
      ],
      "execution_count": null,
      "outputs": [
        {
          "output_type": "stream",
          "text": [
            "(노혜경)\n"
          ],
          "name": "stdout"
        }
      ]
    },
    {
      "cell_type": "markdown",
      "metadata": {
        "id": "RJfm_0kbyZih"
      },
      "source": [
        "### 변수명 규칙\n",
        "\n",
        "- 알파벳, 숫자, 언더바(_)로 설명 가능\n",
        "- 의미있는 단어로 표기하는 것이 좋다. \n",
        "- 대소문자가 구분된다.\n",
        "- 특별한 의미가 있는 예약어는 사용할 수 없다. \n",
        "\n",
        "![](data:image/png;base64,iVBORw0KGgoAAAANSUhEUgAAASoAAACpCAMAAACrt4DfAAAAz1BMVEX////RpKj27e7lztDdvL/gw8Xbubz58/TQnqLZtbjSoqbv4eLXr7P8+fn06Onr29yvr6/09PS6urrp6eni4uLw8PC7u7ubm5vY2NigoKDNzc2VlZWysrKpqanGxsbr6+uFhYWNjY14eHjT09MAAABzc3OAgIBpaWl1dXVcXFxEREROTk5gYGBra2suLi5LS0s8PDz98egwMDDJkJXvdAD87N8lJSXDhov0pGXvdwD50bXwfgD3w53znFbxhBn5za773cj1r3nylEoSEhIdHR0Ey6djAAAUyUlEQVR4nO2dC2Pbtq6A0XXduoc2UaJIihQpyYrld5O2W3e3c+527tn+/2+6ACU7TmtKbpzM6WpsbpSYhKhPIAiQegBc5CKPLhlACpy2ohL/8VvA2G7zHvp4XzUiTeWdb291llFfPmNZGbHMly0hjUp2oPTd33zp9/7o/5ZG/W7fF75tGx0tldmV7lqahg7n9f/sNuukgJzVWMlJV3Mw9Edn4wS/wj+qYr9eMWlb1W83AMmBRtUiBslqf7gttTHpq9rYWmASN+O4aEso+tZp3TqXKUdN1xpsWeAedGxMrEH2SoW02K4at0wcSw1Umtu4qLp9kOSFayOwSIBJ2JOyKmJbdsUqV0XActxSRuAP/DtuxbGNsjyE6teftqywcTVYZvCgJ0Cf3GJLK8+JqKl4v96MPv0ZxTLVh6gah/pyZlhfBLjYFUftUd8kp3ao8GhTyJzGunGSFHGZ+JOhkca2NMefzHhUE4/Cg0WRzOslIrn/eFRmv0HO7XZfcPqOWfCALYc48z9QMnsY1Ouff/v19W+7nRVy6lHNfUvolCjhGfqzU8QkvWlQEafpAKy6nkCtW2+OkzoDlshJ4k9Ukm5R0bGlB1GJPVRl24K2iAoiNKgtqtzcoiJseHQ9qmwPVbSPKrUeFQjf5HivLsC0MwD8REiFdaUJVTyE6vW/fvoZ/v3T/0J/NELFHpU2ouIgcwUOO5dqk80HVacs4wswHHRBNWsJvMaOC9kCslccsP/mDFw97VDxRYbdxX2ACk0+j3aokjnuq+uALcRNocisEYZLdqigalKjDqDCv7S9kVub4C7srRPrRQt0RAWf8K4JLbkBSGNvfHuoJHu/okf1+6+voz/6LojnLlFdB+z8IbXT9wbhrSrurCpufOl1nucllDUZcNXtu/YdV+jMeFshVLy3KokFD1hV30F6VJG3oZTrzi/WiUAokKCBOgM7D6I0gwOosBlT3RfxjpoOvuib3JdJcKvsLWprVYQK1eyhqrYu+D1Wr//46fV/um3sv7aYeFSN3wG5cbLmuPPw2Z1BaN7/YHWHyre/65WZhw4J6mMdKsQi3AFfdRcV1srRyqiUoqEkyRA4lP7URHcc9Ieo8t5UvKRye9zNnVpuC9UPU23nqyrvVUc7IMq/dm4dXX8LW6si8Vvor1vo3PqdEXDa/dCLdIeqggKPcB31qNDntr1bz32FHSq2RRW1UCorkh6V8MfiEn88zhXeV0V3XDOiRElM14K0R8WNhj1U+RpgQ0XujoDb0wt+dBC6QyVTOkBvg03EnWyCqF7/325T51kfLPSofKe1lnVnoWwFSW/M2wNY08HNIvQ4BCSfT7lvgcMz1GAP9cECo5Nbsm2wUCZJUnaH0SROsZ1VlZXmXNcUfqV50gcLMNnfbS9kVRzVMI9K3ZoLibTlvOUJlom6usm21q2mxrrOpSMlbKYPFkAk2GwfLFyFcO1JBrdx4l7E2G1GXvaLp7WGQSn3tETZe1/tdrrTyZvmtpvjWBod3u1eXXbrhLc+Ju2C0PTDuu9ryg5sRfcLt0elGSF1kYtc5CKPInY3nuzGaIEJs6URYi8H5BQb9kWKrUv0wYTovKKldILGEl0URVKz2xJYSZcULRlKK6s48fuTsYnSbqRi0mRA8cOuKpPWSvLSPtrbBgDYVK1oGMPsO+/8PCswmNsFCOl25MMxUXY7xqKlehj/GmEWzL0qNt0OKBL6UHkvwFF1EVeUPqDU20DEl3L8tix9oXBIF3VPc8O8OicLKWkw706N7oJQU4ptVQMipTgdq1IU4vfji9P4Vd22q1E+cu4iZfw2nkxzTDv7ArbuN5AfqxvTt/BUVH/8/vtramZaAcf0Ly0sWpO6i0rhWS5i3xCFX0kKNZnLIy71HqpyW6lDZXxg06HS2vjAH3GmpkMlu6ZTBPgBqlgQrKjnTgQmzjmxHcwxL/WRRWySvE976pTJSHZqdM4j6XxrMZHlMduhuhvCf7T8+6efXtMkAaUIejvZ1jUqwc5kMejnMaEqfEOQjsgxP+5n1vgeKpPeorIRRMwL/UpxsE/mGKrp04wN96cG82bD+hxR0v+IKi0Sb1d41NI5n+/UaFbbQIqCyAazch1blUjtG5zERd6nL12b+rnBwsZdhOxRVadFTr/9979+1lAUgjOabylaTDW3ptylNPtRIM9Kf7ZdXNSYuPFbVHetKisciTe7iJOQFkJQkOsr0fPsOsT7VsWLjhRK1mltnLSuL26wJ5JVZVmjm6wzW54IUXQeSuH5RS/huWH26jzBB7GqTjLMZaKiU7U/GSi3x3D3Lx1JsQ2d85IL2edzBqJGxu9VUii8oirEiiaLMNUTZMXOJXFuO3uwJeYWhMpXFXdNQG9/1Zh+J+SrVN7wJu74eUPceihgW7eeVklL9kvHhBmTPjyR/HES1Y43cs8xA2Xa1P9omsHQlEY/DeS3uyFxm+yi38KhrT807BaNpy39JMVeSkN6JynZV9cHHc24ZRnmMNsRi+yNlNI+ijYjAyHRqJRaEnsXStamCVWDqFRPOW46vX3Lt/l91orKkHcprRURWXF7OitI1XZPBye4DsndgtleIw5O6BO10tvXtv5OwZ6m4/beVeU7Vd5ub6ebDithRx/ZRS5ykYt88sLJLZLb8/5xN4HWDWBs64wbpZpuzUBtP1iLBZdl/4nCLQ22FFkK2tgN8RP/b41DfJpTbOj6lYla1X70L3CQZtyF1P6z5PXPP8M2k5R7YaWXZu4jgJqsymf4FDVKPwfB/cKXD+s/F1RdDtjNvxjK8Sgz7jMAZfsViTQtU8+wER5VUlIA/HmigjiWPhomp0QOib7CSDgDTKYoXZ4UfiGepn+mzmcfe6jaR5rAf2Ly82+/dWF2l/qhU6rSLrUl6XLAcruR2W4GDe0I/9+i+ryWJFSj2qZpfG/bTiayBv+omsZPrnX9sMVtTt8b3bn1xLncNO7wtUP/TKEhrp8n2U0P09RJ2iW3cZcu75kfdTmawEvTztfrzwbVRf5uib74B8nj9pMXz748Wd5+e7qOlw+h4/njovridB3Pvztdx48PoeORUf1wuo7nP56u48eH0HFBdbSOp4FqKBX6G1GJQR1nRBWpCLKSAjIVvkBuGBVqSGlmiKI5UOGp8mFUjGZOqCHXhy/+7HWcDxW75tfwzhR1dN0si3C5AVSzZpNOywlP8ljCspkH1/UGUfErt06T2q1hNbQweE6rEvmbaIXZNibgLg4XC6Mql4VpYRXDMi7e6QHDHEalahDNimbhNkOh0xlRJTm0iCqaJwKSe6HKNpRI1XO4pj4sBxbCxlAlzQJgks2eKCo1k1fumi65Wefv7oUKarPgSyis2rQ5zPLZPTtgBYVWM1PDJHhXDTyZEXBIPpdg4RKtHysvnn11qlD+9jR0PDKqH78+VaIXz0/X8fx59AA6HhfVxVcdKxdUR8vjokr3Aqlo8Oqifxiq6oM7HDsJopKW314JmOtpoD7Jp4xKSg2xTCCRMZQmh6Z2S3m4aBDVtYk0z2UB3JjI6paWuAPLamOouJFQ1slgmTOh0hpesRWY6BVY/EkXv0NbHi4bRFXzUooWZqwGbWLdsiVMAjrGUC2Bz/hkuMyZUKk2vwE3N9BMangX27jQMAlcPzOMykHFclNJRBXV6SxQdAQVrWcuecCqdzrOg2rD4A2zMFcS6mYJKd1UPP1Yq6oIlUBrXIEzVk9Y9iq0rD1uVensiaJKjTHcop+KZY6+ykRCgf5YXyVK5pSCJEqkNA1PGLwLtWPcVxngA3NmXsfTGQFDcnxcVQWvlfgURsBLunysvHj78lT59pdfTtbx8kF0XKzqaB3/JF8Vlk/BV11QHStBVOl7ye3A9dsjqNQxF1N+yqjke+O6NofLwSiq5THt+JRR2ZnEQL1lMcV+Vd00EkIp2DAq/Y6Xba1hEWYNg6g2FSafVW7AyhYKMwkvkJ0JVZ5DrhdQYuvoyUMLZTahOZQRq1rACuAabgYLhVFFfwKsmMbPq0hlN1kaXIs/GyoNTbwGPbMxl3Wy4dfz0HLlMahathosNIBqjSrSWbzOQC4yyBdB13c2VDOYYZobLaFWS2gWSkahgx1BdQ3TJluOuKyBDniVqUmRwE22ACnWUARXTc+Fiouc0xXJZd7QTcQFx3Q54CVGUDm6zT2CoSsWBq1qQffkF9ZpngtsTnh67xJXDU997uu4JDZH63jsdPnZyfLLA+h4+xDtuFjV0To+e191vI4LqqN1nBOVPupmuAFU/MADkw/KOKqoe4yuCqft50NVloARTZb2T0oMzw8MoMotTUlQfZZlQ883H0AVMV8dlUQpAxOOz86GSuZxJYSr3IYt9DVcN8Fwe/ACx/JK85lbwY2sVy6c3Aygiv9yi2hWR7PsKlnzKpx1nw3VNX6KhIn8DSxiDmsbtIkBVInIJrSmGCMlbmER7I5DqAQ0+RRgk1UgXBG+1+CsqBKxUZi8seyGMbYKrJiOoJrDNAOrV/SE3fuhKkDbaeRRJS5+gqhsJatESFlfqUWxZtfFIjRRNICqSLINpGs7gxtQOazug6q4idewjmCdtVA4Nw3reArBQujdDZ0MBwvlYN2tDKDyD7wKWfQdHU8B1bA8clx19L2jj43q+Q+nyhdfnq7jhxcvHkDHI6P6/sXJ8vLZ6TqePYSOS7p8tI7P3lcdr+OC6mgdZ0aVJeHrx3oZRNVd0bi74C6aHy42jurNWIFzoKIr9OjVHqC0A7HAbJXTo4UjUPjVgcQ+iEo5RQtbVLly9FAkwaLF4aIDqLAlWJFeCSayww3Y6vj7US3LXOeWX8OVEJK3eLRXytCbva5hlU0/TAVDqArDr8oVLFRRl1dpLXTNbvy7PA7IwIrNVakrtoRFucbqq2zyhJZM6W5QygDr9BqiqqxhARtQeNyw4IvYfLgMF0KFBlWlC4Zd7ppeI7QGa/68ByqsYc07rDipOF/FMji18PejQjuid0zBLMJEuUM1g6Ygqyqn771NyEsI1YbBGq1qRXY6o5d0ccwEP7oDIqoJRyVrlsI13wB7QlYFtZyqdFrHeCKZiRbIpwWV8OlkBdLMPkyaQ6j4RP5VbiCpp7x8Y6bMVdWNClwjMrRkCrqtbvgEZnkLuZkFbz859wh4hIRQJW0+cv/CrXwKwcIlWj9WXjz75lT56u3Lr07W8fIhdDz5G3K/foAbcr9+/iA6HhfVJbE5Vi6ojpYLqqNlDFX/zJvN0IOjRlFVqhl87g2Mozr81tL3dJx1IT7PY4jzqHx3EqommoTXWToJokpyzLR4tJScXttS5KnIQ8tb50Sl5rBJco1ZRSAd6WTcqlIxduldENVfEcbpa1axJMHs4U/QKziQsXc6zojKNOCSdWzbE1HVaTJy12MY1RJsa42qskRgKroEHYMMZIHnROVyMEmbgoTBK6kfFdUN3YeRsJas6gb/cxbME0SFyelEQ1VrGLyTYRRVkY1efRREtaZW5PQ656rGnkjPmU8Cs3uXYOF4HZd0+WgdlyuMj27HxaqO1nHxVUfruKA6WseZUbm9fwMSQnXw+Zj3e3zOwOOc9nScGdW1//deIejBsPPjl0xJ5k/+UrSkniygkvdMbObRG9O2rdM3cgrZxmDQX4k3h0Ptkcc9L3O3sjUMp5JnRYUmdaNqkC6w0NlJCNUi2mCmDGuMtHW+YdCmK/j4JVMvbVYIbM1gM86Kis0wXdWV0+xeVrWIplCVsHEJpDVSypuVXys+JCOoJlmRgBXVYKGzWtVa5a/gOluk9/JVK0SNyfZavyk3PDGcbsqNAjcKjKFS9OLhq+F39Z3XrbuGAxMlDD0RPohK0dUrEXBhXdq9T030b/X+UEZQMcexIcN3ip99BDxCxuKq9IgXNx4TV+Ujk8afQrr8mYSgb789WTBdPlnH29N1XNLlj9Dx6fuqY+RT6IAXVMfKOKqGJ4rVQ/nqGKpiMNToZAyVf7Oh5UPvZjk/qpie7jn4lJIxVJyN31M0hopCqoiLeEjTWVFZOVeFs9xMh0KaMVSSz9Z5NVwmjGoJC8XrzdTIrHIFn8rgM2fPiupG6ZVwMdcDr2YZR5XzWTSS6Q6gwjzS5ikmoWtWOzF16k3Irs6KaslKXhCqkzogomIQes5zL2FUutZmSrNAM0K14eVTusL4Voyt4kJYfpqvknzNhme8hp9fBdIvby9YJQo1TYL2eV63XjKIomjEK4+h8q86GMvfwjoY7d1rYNiUgSdJXnLA43U89g25350s37w4XceLB9Dx5SOj+ur5yfLsm9N1fP/9A+j4BDrgJV0+Vj4XX3VBdayMoYqPeH7iGCo3eCFbJ+OoVsyAfLLpsk2A1pRiutRxILIaQ8U4WHv/i7GZBgesUexVYW0+9Ays86FaM2eE25QqF7ZfkD8oY6gaW6uyGi4zZFXXcNMkYoO5ka2GHoV8RlQ3MT3sq5y2MM/tPBxuj6Ni88nIBRpDqCpu7QQ2mHHnzVDafUZUSwCRiBiyGfqIe76imqSxYvSp60Oo+JusbtGmFoRqIJc8IypetanWuq4UVENvBhud2hOKrlIelEG3voGiAQOxFQrqAR2XYOFoHZdo/Wgdj4zq5fcny9unouORUX0XnSzPf3wiOi6+6mgdF1RH6/hUUWWHfgm/WGUYVXlbOxwKPyVU4vA12YdR3XneVB+ARtOQ6rErjD0gQ9lyeOnnTKiMYYKDBCElZMaAMtLC/PBttYdRLcFhXWGMMxYWsi5BG9mClAfv7Q2jKhPgGj8mp3smjQyH6+dBNSlhBbO84VNoygWUczcFK9zhO5hDqAxIN1HRDUzZuxKW0QqSlovDCe+AVd1Am82wOS7P+SaFq2DB86BaxhYTiRX4hyvfxNaKBDLMnQ8WDqGq5NS1JbR4qGgKU2chmpST/GNRST6DDVtiG3K+DF7NDedC1XKosomL0aoUX0GWuw3kLvkYVDdpBcahec5hkv2VIjok3xr10VYVvXPIZwmNkHzOn5xVgTRlwryvyoEZGSUTWUBZHxx+DqOyYGUeCwYJiMhKk0EjpWPGHJzKHHLrr+h2HfJVrsR2hd8o/ERGwGZgqvaR46qxSYlbHZd0+Wgdj4vq+UO8IfcBdLx9++3p7XgA677IRS5ykvw/JR5CafvUvmIAAAAASUVORK5CYII=)\n"
      ]
    },
    {
      "cell_type": "code",
      "metadata": {
        "id": "SPyXej-mys0A",
        "colab": {
          "base_uri": "https://localhost:8080/"
        },
        "outputId": "68412d4c-bebe-414f-d023-d3c3e5416e44"
      },
      "source": [
        "abc = \"abc\"\n",
        "abc_123 = 123\n",
        "Abc_123 = 321\n",
        "print(abc)\n",
        "print(abc_123)\n",
        "print(Abc_123)"
      ],
      "execution_count": null,
      "outputs": [
        {
          "output_type": "stream",
          "text": [
            "abc\n",
            "123\n",
            "321\n"
          ],
          "name": "stdout"
        }
      ]
    },
    {
      "cell_type": "markdown",
      "metadata": {
        "id": "IzVR_OF3CV7l"
      },
      "source": [
        "\n",
        "\n",
        "---\n",
        "\n"
      ]
    },
    {
      "cell_type": "markdown",
      "metadata": {
        "id": "UnmfTSSR7gI8"
      },
      "source": [
        "## 자료형(Data Types)\n",
        "\n",
        "![](https://media.vlpt.us/images/yeonu/post/96c0dc1d-018b-4ebc-b2c1-e6ce775059b3/2.png)\n"
      ]
    },
    {
      "cell_type": "markdown",
      "metadata": {
        "id": "E6w1S0AG7093"
      },
      "source": [
        "### 불리언형 자료형(Boolean Type)\n",
        "\n",
        "* 불리언은 `True`와 `False` 값으로만 표현할 때 사용하는 자료형\n",
        "* 예제 코드에서 변수 `b`에 `True` 값을 넣으면 불리언 자료형으로 결정\n",
        "* 자료형을 반환하는 내장함수 `type()` 함수를 이용하여 자료형을 확인하면 `bool`로 반환된 결과를 볼 수 있음"
      ]
    },
    {
      "cell_type": "code",
      "metadata": {
        "id": "VEmJO0Hl7uSL"
      },
      "source": [
        "b = True\n",
        "print(b)\n",
        "print(type(b))"
      ],
      "execution_count": null,
      "outputs": []
    },
    {
      "cell_type": "markdown",
      "metadata": {
        "id": "zEQ7zJg8aafd"
      },
      "source": [
        "### 정수형 자료형(Integer Type)"
      ]
    },
    {
      "cell_type": "markdown",
      "metadata": {
        "id": "QyQdYV_If3kQ"
      },
      "source": [
        "#### 10진수(Decimal) \n",
        "\n",
        "* 10진수는 일반적인 숫자 표현을 그대로 사용\n",
        "* 변수 `i`에 10진수로 숫자 10을 값으로 넣고, `type()` 함수를 통해 자료형을 확인하기\n",
        "* 결과는 정수형(int)자료형으로 출력\n"
      ]
    },
    {
      "cell_type": "code",
      "metadata": {
        "id": "Mt5AV2bR8NFr",
        "colab": {
          "base_uri": "https://localhost:8080/"
        },
        "outputId": "d2cd3408-aad6-42b3-82ec-ee1e8fb3f4cc"
      },
      "source": [
        "i = 10\n",
        "print(i)\n",
        "print(type(i))\n",
        "#위의 i가 어떤 자료형인지 출력해주세요!"
      ],
      "execution_count": null,
      "outputs": [
        {
          "output_type": "stream",
          "text": [
            "10\n",
            "<class 'int'>\n"
          ],
          "name": "stdout"
        }
      ]
    },
    {
      "cell_type": "markdown",
      "metadata": {
        "id": "oXUZbCF_z4ks"
      },
      "source": [
        "#### 2진수(Binary)\n",
        "\n",
        "* 2진수는 앞에 `0b`를 붙여서 표현\n",
        "* 변수 `b`에 2진수 표현으로 `0b010`을 넣고, `type()` 함수를 통해 자료형을 확인하기"
      ]
    },
    {
      "cell_type": "code",
      "metadata": {
        "id": "xxmW8Xp0u01Q",
        "colab": {
          "base_uri": "https://localhost:8080/"
        },
        "outputId": "c735868f-7861-4330-9ec5-49f340d60bfd"
      },
      "source": [
        "b =0b010\n",
        "#b를 출력해주세요\n",
        "print(b)"
      ],
      "execution_count": null,
      "outputs": [
        {
          "output_type": "stream",
          "text": [
            "2\n"
          ],
          "name": "stdout"
        }
      ]
    },
    {
      "cell_type": "markdown",
      "metadata": {
        "id": "uWuYvhlMz-pL"
      },
      "source": [
        "#### 8진수(Octal)\n",
        "\n",
        "* 8진수는 앞에 `0o`를 붙여서 표현\n",
        "* 변수 `o`에 8진수 표현으로 `0o130`을 넣고 확인하기"
      ]
    },
    {
      "cell_type": "code",
      "metadata": {
        "id": "uS9NsK2ZYU8l",
        "colab": {
          "base_uri": "https://localhost:8080/"
        },
        "outputId": "9e9e6488-f11d-448c-8ad1-5ee1b1ab8271"
      },
      "source": [
        "o = 0o130\n",
        "print(o)"
      ],
      "execution_count": null,
      "outputs": [
        {
          "output_type": "stream",
          "text": [
            "88\n"
          ],
          "name": "stdout"
        }
      ]
    },
    {
      "cell_type": "markdown",
      "metadata": {
        "id": "ObGeQFIA0CfR"
      },
      "source": [
        "#### 16진수(Hexadecimal)\n",
        "\n",
        "* 16진수은 앞에 `0x`를 붙여서 표현\n",
        "* 변수 `h`에 16진수 표현으로 `0xABC`를 넣고 확인하기\n",
        "* 16진수는 10진수와 달리 10부터 A에서 F까지 알파벳을 사용하여 표현"
      ]
    },
    {
      "cell_type": "code",
      "metadata": {
        "id": "t6AMAPRLYVHG",
        "colab": {
          "base_uri": "https://localhost:8080/"
        },
        "outputId": "80420d35-e838-4b8e-f6dd-a6ab2d28479b"
      },
      "source": [
        "h = 0xABC\n",
        "print(h)"
      ],
      "execution_count": null,
      "outputs": [
        {
          "output_type": "stream",
          "text": [
            "2748\n"
          ],
          "name": "stdout"
        }
      ]
    },
    {
      "cell_type": "markdown",
      "metadata": {
        "id": "ExS5VLXYgC0K"
      },
      "source": [
        "### 실수형 자료형(Floating-Point Type)\n",
        "\n",
        "* 실수형 자료형 표현은 고정소수점과 부동소수점으로 구분"
      ]
    },
    {
      "cell_type": "markdown",
      "metadata": {
        "id": "o9wEy__Akh68"
      },
      "source": [
        "#### 고정소수점(Fixed-Point)\n",
        "\n",
        "* 기본적으로 고정된 자리수의 소수를 사용하는 고정소수점 방식\n",
        "* 실수형 변수 `f`에 소수점이 포함된 `12.34` 값을 넣고 확인하기\n",
        "* `type(f)`를 통해서 결과를 확인해보면 실수형(float) 자료형으로 출력\n",
        "* 파이썬에서는 소수에서 정수부가 0인 경우에는 제외해서 표현 가능\n",
        "* 코드에서 값 `.123`은 `0.123`을 의미"
      ]
    },
    {
      "cell_type": "code",
      "metadata": {
        "id": "zRx3Lg_soF-d",
        "colab": {
          "base_uri": "https://localhost:8080/"
        },
        "outputId": "aada40bf-1dc8-43ce-bf5c-a031b5536b01"
      },
      "source": [
        "f = 12.34\n",
        "#f가 어떤 유형인지 출력해주세요!\n",
        "print(type(f))"
      ],
      "execution_count": null,
      "outputs": [
        {
          "output_type": "stream",
          "text": [
            "<class 'float'>\n"
          ],
          "name": "stdout"
        }
      ]
    },
    {
      "cell_type": "code",
      "metadata": {
        "id": "YLdTH0EtgupN"
      },
      "source": [
        "f1 = 0.123\n",
        "f2 = .123"
      ],
      "execution_count": null,
      "outputs": []
    },
    {
      "cell_type": "markdown",
      "metadata": {
        "id": "NSsefZL8hx83"
      },
      "source": [
        "#### 부동소수점(Floating-Point)\n",
        "\n",
        "* 컴퓨터에서 소수점의 위치가 고정되지 않고 넓은 범위의 값을 근사하여 표현하는 부동소수점 방식이 있음\n",
        "* 부동소수점에 대한 개념을 모르는 경우에는 [링크](https://ko.wikipedia.org/wiki/%EB%B6%80%EB%8F%99%EC%86%8C%EC%88%98%EC%A0%90)를 참고\n",
        "* 파이썬에서는 e 기호를 이용하여 지수에 대한 표현을 사용\n",
        "* `e` 변수에 할당한 `1234e-2` 라는 표현은 $1234 \\times 10^{-2}$를 의미하고 실제 결과 값은 12.34\n",
        "* `type(e)` 함수를 통해 타입을 확인해보면 실수형\n",
        "* 마찬가지로 `123e-3`은 $123 \\times 10^{-3}$를 의미하며 결과는 0.123"
      ]
    },
    {
      "cell_type": "code",
      "metadata": {
        "id": "VflCID3tgVrO",
        "colab": {
          "base_uri": "https://localhost:8080/"
        },
        "outputId": "16b14dc6-0524-45f9-a96c-1feb17e3439e"
      },
      "source": [
        "e = 1234e-2\n",
        "print(e)"
      ],
      "execution_count": null,
      "outputs": [
        {
          "output_type": "stream",
          "text": [
            "12.34\n"
          ],
          "name": "stdout"
        }
      ]
    },
    {
      "cell_type": "code",
      "metadata": {
        "id": "CmJN7I6EgVxT",
        "colab": {
          "base_uri": "https://localhost:8080/"
        },
        "outputId": "7c0b3569-20c8-4d38-f40d-65f047092c40"
      },
      "source": [
        "e1 = 123e-3\n",
        "print(e1)"
      ],
      "execution_count": null,
      "outputs": [
        {
          "output_type": "stream",
          "text": [
            "0.123\n"
          ],
          "name": "stdout"
        }
      ]
    },
    {
      "cell_type": "markdown",
      "metadata": {
        "id": "B6TXm4YJoGFF"
      },
      "source": [
        "###복소수형 자료형(Complex Type)\n",
        "\n",
        "* 복소수(complex number)는 임의의 실수 $a$, $b$에 대해 $a + bi$의 꼴로 나타내는 수를 의미\n",
        "* 여기서 $a$는 실수, $b$는 허수 부분\n",
        "* i는 제곱하여 -1이 되는 수로 허수(imaginary number) 단위라고 함\n",
        "* 복소수에 대한 개념을 모르는 경우에는 [링크](https://ko.wikipedia.org/wiki/%EB%B3%B5%EC%86%8C%EC%88%98) 참고\n",
        "* 파이썬에서는 i 대신에 j 또는 J로 표현\n",
        "* $1 + 23j$와 같이 복소수로 표현하기\n",
        "* `print()` 함수를 이용해 출력한 결과 `(1+23j)`\n",
        "* 실수부는 `c.real`로 허수부는 `c.imag`로 출력\n",
        "* 복소수의 경우에는 `type()` 함수로 타입을 살펴보면 결과는 'complex'"
      ]
    },
    {
      "cell_type": "code",
      "metadata": {
        "id": "0I7Dr_S1sp_a",
        "colab": {
          "base_uri": "https://localhost:8080/"
        },
        "outputId": "6cd7ef17-1a5d-47e6-c46b-8cb529220918"
      },
      "source": [
        "c = 1+23j\n",
        "print(c)"
      ],
      "execution_count": null,
      "outputs": [
        {
          "output_type": "stream",
          "text": [
            "(1+23j)\n"
          ],
          "name": "stdout"
        }
      ]
    },
    {
      "cell_type": "markdown",
      "metadata": {
        "id": "-KDyVNOYErfS"
      },
      "source": [
        "### 문자열 자료형(String Type)\n",
        "\n",
        "* 문자열(string)은 문자들의 집합을 의미\n",
        "* 문자열을 저장하는 변수를 문자열 변수라고 함"
      ]
    },
    {
      "cell_type": "code",
      "metadata": {
        "id": "vMbIM94dEq85",
        "colab": {
          "base_uri": "https://localhost:8080/"
        },
        "outputId": "a1b81c49-bddf-4f27-ac52-839a9bc48776"
      },
      "source": [
        "string = \"(노혜경)\"\n",
        "#위의 변수가 어떤 타입인지 출력해주세요!\n",
        "print(type(string))"
      ],
      "execution_count": 9,
      "outputs": [
        {
          "output_type": "stream",
          "text": [
            "<class 'str'>\n"
          ],
          "name": "stdout"
        }
      ]
    },
    {
      "cell_type": "markdown",
      "metadata": {
        "id": "mCkLTLt_GkqB"
      },
      "source": [
        "### 리스트 자료형(List Type)\n",
        "\n",
        "* 대괄호 사용\n",
        "\n",
        "* 리스트(list)는 여러 값을 하나의 변수에 담을 수 있는 자료형\n",
        "* 대괄호 안에 여러 값을 쉽표를 구분자로 표현하여 리스트 변수 생성\n",
        "* 간단하게 리스트 생성과 출력을 위해 변수 `l` 안에 값 1, 2, 3을 넣어보자\n",
        "* 자료형을 출력해보면 'list'라는 결과 값을 가지는 것을 알 수 있음"
      ]
    },
    {
      "cell_type": "code",
      "metadata": {
        "id": "Y_KxRefG_AlV",
        "colab": {
          "base_uri": "https://localhost:8080/"
        },
        "outputId": "978029fe-46c6-4d5b-8e58-8a3ee10e78bb"
      },
      "source": [
        "l = [1, 2, 3] #위의 설명을 보고 [] 안을 채워주세요\n",
        "#위의 변수가 어떤 타입인지 출력해주세요! \n",
        "print(type(l))"
      ],
      "execution_count": 10,
      "outputs": [
        {
          "output_type": "stream",
          "text": [
            "<class 'list'>\n"
          ],
          "name": "stdout"
        }
      ]
    },
    {
      "cell_type": "markdown",
      "metadata": {
        "id": "YyMEboAsJA_f"
      },
      "source": [
        "* 리스트 자료형은 같은 자료형이 아니라 다른 자료형을 가지는 값들도 포함하여 구성 가능\n",
        "* 숫자와 문자열이 포함된 리스트 변수 사용하기"
      ]
    },
    {
      "cell_type": "code",
      "metadata": {
        "id": "_RxMxJkRILKq",
        "colab": {
          "base_uri": "https://localhost:8080/"
        },
        "outputId": "e043b8d0-b75b-44ff-e54c-442b37e566b7"
      },
      "source": [
        "L123 = [1, \"one\", 2, \"two\"]\n",
        "print(L123)"
      ],
      "execution_count": null,
      "outputs": [
        {
          "output_type": "stream",
          "text": [
            "[1, 'one', 2, 'two']\n"
          ],
          "name": "stdout"
        }
      ]
    },
    {
      "cell_type": "markdown",
      "metadata": {
        "id": "NrO0CmiFJTet"
      },
      "source": [
        "### 튜플 자료형(Tuple Type)\n",
        "\n",
        "* 중괄호 사용\n",
        "\n",
        "* 튜플 자료형은 리스트 자료형과 유사하지만 생성, 삭제, 수정이 불가\n",
        "* 튜플은 괄호 안에 여러 값을 쉼표로 구분하여 사용\n",
        "* 변수 `t` 안에 값 1, 2, 3을 저장하고, 변수와 변수의 타입을 출력하기"
      ]
    },
    {
      "cell_type": "code",
      "metadata": {
        "id": "_Wm3Q7k_JPaX",
        "colab": {
          "base_uri": "https://localhost:8080/"
        },
        "outputId": "3d871a26-0f57-4e38-da40-3472db4da2d0"
      },
      "source": [
        "t = (1, 2, 3) # 위의 설명을 보고 {} 안을 채워주세요\n",
        "#위의 변수가 어떤 타입인지 출력해주세요! \n",
        "print(type(t))"
      ],
      "execution_count": 11,
      "outputs": [
        {
          "output_type": "stream",
          "text": [
            "<class 'tuple'>\n"
          ],
          "name": "stdout"
        }
      ]
    },
    {
      "cell_type": "markdown",
      "metadata": {
        "id": "xQJGvN1CVGST"
      },
      "source": [
        "### 범위 자료형(Range Type)\n",
        "\n",
        "* 소괄호 사용\n",
        "\n",
        "* 불변한 숫자 시퀀스 자료형"
      ]
    },
    {
      "cell_type": "code",
      "metadata": {
        "id": "efGjqZz7VGqz",
        "colab": {
          "base_uri": "https://localhost:8080/"
        },
        "outputId": "6ef3bacc-2fcb-46c2-d953-293b27468258"
      },
      "source": [
        "r = range(10)\n",
        "#위의 변수가 어떤 타입인지 출력해주세요출력해주세요\n",
        "print(type(r))"
      ],
      "execution_count": 12,
      "outputs": [
        {
          "output_type": "stream",
          "text": [
            "<class 'range'>\n"
          ],
          "name": "stdout"
        }
      ]
    },
    {
      "cell_type": "markdown",
      "metadata": {
        "id": "cjPLDAii4Oj7"
      },
      "source": [
        "### 집합 자료형(Set Type)\n",
        "\n",
        "* 중괄호 사용\n",
        "\n",
        "* 집합 자료형은 중복과 순서가 없다는 특징을 가지며 집합 처리를 쉽게할 수 있음\n",
        "* 집합은 중괄호를 이용해서 값을 쉼표로 구분하여 넣음\n",
        "* 변수 `s` 안에 값 2, 3, 1을 넣고 변수 `s`의 값과 타입을 출력한 예제\n",
        "* 변경 불가능한 집합 자료형으로 fronzenset이 있음"
      ]
    },
    {
      "cell_type": "code",
      "metadata": {
        "id": "ZvEn8hlvKDaE",
        "colab": {
          "base_uri": "https://localhost:8080/"
        },
        "outputId": "165579e6-978d-4f92-df28-85bfb627097f"
      },
      "source": [
        "s = {2,3,1} #위의 설명을 보고 {} 안을 채워주세요\n",
        "#위의 변수가 어떤 타입인지 출력해주세요\n",
        "print(type(s))"
      ],
      "execution_count": 13,
      "outputs": [
        {
          "output_type": "stream",
          "text": [
            "<class 'set'>\n"
          ],
          "name": "stdout"
        }
      ]
    },
    {
      "cell_type": "markdown",
      "metadata": {
        "id": "9O8GBpoTa1HO"
      },
      "source": [
        "### 딕셔너리 자료형(Dictionary Type) \n",
        "\n",
        "* 중괄호 사용\n",
        "\n",
        "* 딕셔너리 자료형은 다른 자료형과 달리 키(key)와 값(value)를 한 쌍으로 갖는 자료형\n",
        "* 변수 `d`에 키와 값을 구분자 `:`를 이용해서 쌍으로 묶어서 `1: 'One', 2: 'Two'` 형태로 넣을 수 있음"
      ]
    },
    {
      "cell_type": "code",
      "metadata": {
        "id": "9R-eJj_ja1oD"
      },
      "source": [
        "# 위의 설명을 보고 딕셔너리 자료형을 만들어보세요\n",
        "dic = {'name':'rho', 'phone':'0119993323', 'birth': '1117'}"
      ],
      "execution_count": 17,
      "outputs": []
    },
    {
      "cell_type": "markdown",
      "metadata": {
        "id": "rbjYd180xOgd"
      },
      "source": [
        "### 바이트 시퀀스형(Byte Sequence Type)\n",
        "\n",
        "* 바이트 자료형은 1바이트 단위의 값을 연속적으로 저장하는 시퀀스 자료형\n",
        "* 1바이트는 8비트에 해당하며, 정수값 0 ~ 255(0x00~0xFF) 사용\n",
        "* 이진 데이터로 사용되어지거나 1바이트 문자로 고정을 위해 사용\n",
        "* 유니코드가 아닌 문자열을 사용하는 것과 유사\n",
        "* 바이트 자료형의 시퀀스 형태로 `bytearray` 자료형 사용\n",
        "* 바이트 자료형의 메모리 값의 표현으로 `memoryview` 자료형 사용\n"
      ]
    },
    {
      "cell_type": "code",
      "metadata": {
        "id": "N364DWyAuinp",
        "colab": {
          "base_uri": "https://localhost:8080/"
        },
        "outputId": "bcf05202-8241-43f8-96ff-fb86bf763cdc"
      },
      "source": [
        "byte = b'\\x00'\n",
        "print(byte)\n",
        "print(type(byte))\n",
        "\n",
        "byte1 = b\"hello\"\n",
        "print(byte1)\n",
        "print(type(byte1))\n",
        "\n",
        "ba = bytearray(byte)\n",
        "print(ba)\n",
        "print(type(ba))\n",
        "\n",
        "#자료에 대한 메모리값 보기\n",
        "mv = memoryview(ba)\n",
        "print(mv)\n",
        "print(type(mv))"
      ],
      "execution_count": null,
      "outputs": [
        {
          "output_type": "stream",
          "text": [
            "b'\\x00'\n",
            "<class 'bytes'>\n",
            "b'hello'\n",
            "<class 'bytes'>\n",
            "bytearray(b'\\x00')\n",
            "<class 'bytearray'>\n",
            "<memory at 0x7f1d128f5ae0>\n",
            "<class 'memoryview'>\n"
          ],
          "name": "stdout"
        }
      ]
    },
    {
      "cell_type": "markdown",
      "metadata": {
        "id": "aYEHLAuDCZcj"
      },
      "source": [
        "\n",
        "\n",
        "---\n",
        "\n"
      ]
    },
    {
      "cell_type": "markdown",
      "metadata": {
        "id": "RsSgmmjFXFAS"
      },
      "source": [
        "## 자료형 변환"
      ]
    },
    {
      "cell_type": "markdown",
      "metadata": {
        "id": "-FxX0V7IUgl9"
      },
      "source": [
        "#### bool()\n",
        "\n",
        "* `bool()` 함수는 다양한 자료형을 불리언형으로 변환\n",
        "* `0`이나 `False` 값이 아닌 경우는 모두 True로 변환"
      ]
    },
    {
      "cell_type": "code",
      "metadata": {
        "id": "levVjrt-UPGE",
        "colab": {
          "base_uri": "https://localhost:8080/"
        },
        "outputId": "9376a009-a546-4010-89a5-a6bd878ae399"
      },
      "source": [
        "print(bool(True))\n",
        "print(bool(False))\n",
        "print(bool(0))\n",
        "print(bool(1))\n",
        "print(bool(False))\n",
        "print(bool(15))"
      ],
      "execution_count": 22,
      "outputs": [
        {
          "output_type": "stream",
          "text": [
            "True\n",
            "False\n",
            "False\n",
            "True\n",
            "False\n",
            "True\n"
          ],
          "name": "stdout"
        }
      ]
    },
    {
      "cell_type": "markdown",
      "metadata": {
        "id": "KpA7BboIHjok"
      },
      "source": [
        "### int()\n",
        "\n",
        "* `int()` 함수는 다양한 자료형을 정수형으로 변환\n",
        "* 복소수형은 정수로 `int()` 함수를 통해 변환이 되지 않음\n",
        "* 불리언 형은 값으로 `True`와 `False`만 가지고 `int()` 함수를 통해 정수로 변환되면 `True`는 1로 `False`는 0으로 변환\n",
        "* 정수값 10과 2진수 `0b010`, 8진수 `0o130`, 16진수 `0xABC`는 모두 같은 정수형이라서 그대로 값을 유지하고, 10진수 형태로 변환되어 출력\n",
        "* 실수형을 정수형으로 변환하는 경우에는 고정소수점이든 부동소수점이든지 소수점 이하를 제외하고 변환, 예를 들어, 12.34는 12로 소수점을 제외하고 변환\n",
        "* 문자형은 기본적으로는 문자열을 10진수 변환, 예를 들어, `int('10')`은 기본 10진수로 문자열 '10'을 정수형 10으로 변환\n",
        "* 2진수, 8진수, 16진수 등의 다른 진수로 된 문자열일 경우에는 몇 진수에 해당되는지를 입력해주면 그에 맞추어 변환\n",
        "* `int('010', 2)`와 같이 문자열 '010'을 2진수라고 알려주고 변환하기 위해서 2라고 입력하고, 8진수과 16진수도 마찬가지"
      ]
    },
    {
      "cell_type": "code",
      "metadata": {
        "id": "aFXT-t5qWRvX",
        "colab": {
          "base_uri": "https://localhost:8080/"
        },
        "outputId": "77a18a8e-66bc-4d48-9ea9-08161302ead5"
      },
      "source": [
        "a1 = \"10\"\n",
        "# a1의 데이터 타입을 int로 바꿔주세요\n",
        "int(a1)"
      ],
      "execution_count": 23,
      "outputs": [
        {
          "output_type": "execute_result",
          "data": {
            "text/plain": [
              "10"
            ]
          },
          "metadata": {
            "tags": []
          },
          "execution_count": 23
        }
      ]
    },
    {
      "cell_type": "markdown",
      "metadata": {
        "id": "l1DTbBym3gb_"
      },
      "source": [
        "### float()\n",
        "\n",
        "* `float()` 함수는 자료형을 실수형으로 변환\n",
        "* 복소수형은 변환이 되지 않고, 문자열 형태의 2진수, 8진수, 16진수도 변환이 되지 않음\n",
        "* `int()` 함수를 사용한 결과와 유사하지만, 소수점 이하 값이 포함\n",
        "* 만약 소수점 이하 값이 없다면 .0으로 변환되고, 소수점 이하 값이 있는 실수형은 동일한 값으로 변환"
      ]
    },
    {
      "cell_type": "code",
      "metadata": {
        "id": "xKGdUbHXGnrt",
        "colab": {
          "base_uri": "https://localhost:8080/"
        },
        "outputId": "cf217c4c-048c-4997-aa1a-3fc8dc280533"
      },
      "source": [
        "a2 = 1\n",
        "# a2의 데이터 타입을 실수로 바꿔주세요\n",
        "float(a2)"
      ],
      "execution_count": 24,
      "outputs": [
        {
          "output_type": "execute_result",
          "data": {
            "text/plain": [
              "1.0"
            ]
          },
          "metadata": {
            "tags": []
          },
          "execution_count": 24
        }
      ]
    },
    {
      "cell_type": "markdown",
      "metadata": {
        "id": "C4E7PyVIfjGp"
      },
      "source": [
        "### complex()\n",
        "\n",
        "* `complex()` 함수는 자료형을 복소수형으로 변환\n",
        "* 불리언형, 정수형, 실수형, 복소수형, 문자형 모두 복소수형으로 변환 가능\n",
        "* 허수가 있는 복소수형을 제외하고 다른 자료형은 허수 부분이 없어서 `OJ`로 변환"
      ]
    },
    {
      "cell_type": "code",
      "metadata": {
        "id": "2VkxG3V17t0Q",
        "colab": {
          "base_uri": "https://localhost:8080/"
        },
        "outputId": "17246f88-7420-4be1-e2b9-740dfed006fc"
      },
      "source": [
        "print(complex(True))\n",
        "print(complex(False))\n",
        "print(complex(10))\n",
        "print(complex(0b010))\n",
        "print(complex(12.34))\n",
        "print(complex(1234e-2))\n",
        "print(complex(\"10\"))"
      ],
      "execution_count": null,
      "outputs": [
        {
          "output_type": "stream",
          "text": [
            "(1+0j)\n",
            "0j\n",
            "(10+0j)\n",
            "(2+0j)\n",
            "(12.34+0j)\n",
            "(12.34+0j)\n",
            "(10+0j)\n"
          ],
          "name": "stdout"
        }
      ]
    },
    {
      "cell_type": "markdown",
      "metadata": {
        "id": "4B6kUxK5dqaT"
      },
      "source": [
        "### str()\n",
        "\n",
        "* `str()` 함수는 파이썬의 모든 자료형을 문자열로 변환\n",
        "* 자료형의 값을 그대로 문자열 형태로 변환\n",
        "\n"
      ]
    },
    {
      "cell_type": "code",
      "metadata": {
        "id": "AWnqw88hfotE",
        "colab": {
          "base_uri": "https://localhost:8080/",
          "height": 35
        },
        "outputId": "b887532b-3525-4013-e5fc-fb09bbb179e4"
      },
      "source": [
        "a3 = 111\n",
        "# a3의 데이터 타입을 문자열로 변환해주세요\n",
        "str(a3)"
      ],
      "execution_count": 25,
      "outputs": [
        {
          "output_type": "execute_result",
          "data": {
            "application/vnd.google.colaboratory.intrinsic+json": {
              "type": "string"
            },
            "text/plain": [
              "'111'"
            ]
          },
          "metadata": {
            "tags": []
          },
          "execution_count": 25
        }
      ]
    },
    {
      "cell_type": "markdown",
      "metadata": {
        "id": "XU9RZbXykzXt"
      },
      "source": [
        "### eval()\n",
        "\n",
        "* `eval()` 함수는 문자열에 포함된 수식을 계산하여 나온 결과를 반환\n",
        "* '1 + 2'라는 문자열에 대해서 그대로 출력하는 것과 달리 계산된 결과 값은 3을 출력\n",
        "* 그 밖에도 -, *, /와 같은 여러 수식들에 대해서도 계산 가능"
      ]
    },
    {
      "cell_type": "code",
      "metadata": {
        "id": "m3Fh1-2leEru",
        "colab": {
          "base_uri": "https://localhost:8080/"
        },
        "outputId": "8f45e528-ba20-44e0-9a2e-3d500031e129"
      },
      "source": [
        "print(\"1+2\")\n",
        "print(eval(\"1+2\")) \n",
        "\n",
        "#결과를 출력해서 확인해보세요\n",
        "print(eval(\"1+2*3/2\")) \n"
      ],
      "execution_count": 27,
      "outputs": [
        {
          "output_type": "stream",
          "text": [
            "1+2\n",
            "3\n",
            "4.0\n"
          ],
          "name": "stdout"
        }
      ]
    },
    {
      "cell_type": "markdown",
      "metadata": {
        "id": "nhChZjK3n9KE"
      },
      "source": [
        "### tuple()\n",
        "\n",
        "* `tuple()` 함수는 문자열, 리스트, 튜플 등의 자료형을 튜플 자료형으로 변환\n",
        "* 문자열 `DALC`을 문자 단위로 구분하여 튜플 자료형으로 변환\n",
        "* 리스트 자료형 `[1, 2, 3]`이나 튜플 자료형 `(1, 2, 3)`도 튜플 자료형으로 `(1, 2, 3)`으로 변환"
      ]
    },
    {
      "cell_type": "code",
      "metadata": {
        "id": "--4Db23Glh-5",
        "colab": {
          "base_uri": "https://localhost:8080/"
        },
        "outputId": "022d29b5-456b-406e-c8f8-592f62f6846d"
      },
      "source": [
        "# DALC라는 문자를 tuple로 출력해보세요\n",
        "# print(tuple([1,2,3]))\n",
        "# print(tuple((1,2,3)))\n",
        "print(tuple(('D','A','L','C')))"
      ],
      "execution_count": 32,
      "outputs": [
        {
          "output_type": "stream",
          "text": [
            "('D', 'A', 'L', 'C')\n"
          ],
          "name": "stdout"
        }
      ]
    },
    {
      "cell_type": "markdown",
      "metadata": {
        "id": "PStvlrGiaphP"
      },
      "source": [
        "### list()\n",
        "\n",
        "* `list()` 함수는 문자열, 리스트, 튜플 등의 자료형을 리스트 자료형으로 변환\n",
        "* 문자열 `'DALC'`, 리스트 `[1, 2, 3]`, 튜플 `(1, 2, 3)`에 대해서 리스트 자료형으로 변환"
      ]
    },
    {
      "cell_type": "code",
      "metadata": {
        "id": "OGUiqkOMaova"
      },
      "source": [
        "# DALC라는 문자를 list로 출력해보세요\n",
        "# 위의 튜플에서의 예시처럼 리스트 [1,2,3]과 튜픙(1,2,3)을 리스트 자료형을 변환해보세요\n",
        "string = list('DALC')\n",
        "list(tuple([1,2,3]))\n",
        "list1 = list([1, 2, 3])"
      ],
      "execution_count": 37,
      "outputs": []
    },
    {
      "cell_type": "markdown",
      "metadata": {
        "id": "J0kr_j2KatLD"
      },
      "source": [
        "### set()\n",
        "\n",
        "* `set()` 함수는 문자열, 리스트, 튜플, 집합, 딕셔너리 자료형을 집합 자료형으로 변환\n",
        "* 집합의 특성답게 요소에 대해서 순서를 고려하지 않고 변환\n",
        "* 리스트, 튜플, 집합 자료형도 집합 형태로 변환이 되며, 딕셔너리 자료형도 집합으로 변환\n",
        "* 딕셔너리 자료형은 키와 값으로 구성된 구조에서 키 값에 해당하는 것만 집합으로 변환\n"
      ]
    },
    {
      "cell_type": "code",
      "metadata": {
        "id": "zW0-GhJiavlg",
        "colab": {
          "base_uri": "https://localhost:8080/"
        },
        "outputId": "1b919505-e71a-4bf0-fd01-184a9b336a74"
      },
      "source": [
        "print(set({1,2,3})) #출력결과 확인하기\n",
        "print(set({1:'one', 2: 'two'}))#출력결과 확인하기"
      ],
      "execution_count": 38,
      "outputs": [
        {
          "output_type": "stream",
          "text": [
            "{1, 2, 3}\n",
            "{1, 2}\n"
          ],
          "name": "stdout"
        }
      ]
    },
    {
      "cell_type": "markdown",
      "metadata": {
        "id": "O3OowqxXayn7"
      },
      "source": [
        "### frozenset()\n",
        "\n",
        "* `frozenset()` 함수는 문자열을 고정 집합 형태로 변환\n",
        "* `set()` 함수는 집합의 값을 추가 및 제거 등이 가능\n",
        "* `frozenset()` 함수는 수정 불가능한 집합 자료형"
      ]
    },
    {
      "cell_type": "code",
      "metadata": {
        "id": "VLwYuHvha0ef",
        "colab": {
          "base_uri": "https://localhost:8080/"
        },
        "outputId": "70a8246c-8b5a-4538-80c7-809315ff0d6e"
      },
      "source": [
        "print(frozenset('DALC'))\n",
        "print(frozenset([1,2,3]))"
      ],
      "execution_count": 39,
      "outputs": [
        {
          "output_type": "stream",
          "text": [
            "frozenset({'D', 'L', 'C', 'A'})\n",
            "frozenset({1, 2, 3})\n"
          ],
          "name": "stdout"
        }
      ]
    },
    {
      "cell_type": "markdown",
      "metadata": {
        "id": "c5caSaibawSN"
      },
      "source": [
        "### dict()\n",
        "\n",
        "* `dict()` 함수는 딕셔너리 자료형으로 변환하는 역할\n",
        "* (키: 값)으로 구성된 튜플의 시퀀스 형태로 값을 가짐\n"
      ]
    },
    {
      "cell_type": "code",
      "metadata": {
        "id": "60x8BRJFayPO"
      },
      "source": [
        "print(dict({1:'one', 2: 'two'}))"
      ],
      "execution_count": null,
      "outputs": []
    },
    {
      "cell_type": "markdown",
      "metadata": {
        "id": "2ACrynyca1DD"
      },
      "source": [
        "### chr()\n",
        "\n",
        "* `chr()` 함수는 정수를 문자로 변환\n",
        "* 컴퓨터에서는 문자를 처리하기 위해 각 문자마다 특정 정수값으로 매핑: ASCII(American Standard Code for Information Interchange)\n",
        "\n",
        "* `chr()` 함수는 ASCII 기준에 따라서 정수값에 해당하는 문자를 나타냄\n",
        "* 예를 들어, ASCII에서 정수 값 97은 문자 a에 매핑되어 `chr(97)`의 결과 값은 문자 a"
      ]
    },
    {
      "cell_type": "code",
      "metadata": {
        "id": "4IozRAYUa27n"
      },
      "source": [
        "print(chr(97))\n",
        "print(chr(65))\n",
        "print(chr(122))\n",
        "print(chr(90))"
      ],
      "execution_count": null,
      "outputs": []
    },
    {
      "cell_type": "markdown",
      "metadata": {
        "id": "pqxx-K67a3Vf"
      },
      "source": [
        "### ord()\n",
        "\n",
        "* `ord()` 함수는 `chr()` 함수와 반대로 문자를 정수 값으로 변환\n",
        "* ASCII에 맞춰서 문자 'a'에 해당하는 정수 값인 97을 출력하기"
      ]
    },
    {
      "cell_type": "code",
      "metadata": {
        "id": "Hucvh-qxa5iG"
      },
      "source": [
        "print(ord('a'))\n",
        "print(ord('A')\n",
        "print(ord('z'))\n",
        "print(ord('Z')))"
      ],
      "execution_count": null,
      "outputs": []
    },
    {
      "cell_type": "markdown",
      "metadata": {
        "id": "0TDNXL3saLad"
      },
      "source": [
        "### bin()\n",
        "\n",
        "* `bin()` 함수는 정수를 2진수 문자열로 변환\n",
        "* 자료형을 2진수 표기인 '0b'가 붙은 형태의 문자열로 변환\n",
        "* `bin()` 함수로 `True`는 `0b1`로 출력하고, `False`는 `0b0`으로 출력하기\n",
        "* 10진수, 2진수, 8진수, 16진수 정수형도 2진수로 변환되어 출력"
      ]
    },
    {
      "cell_type": "code",
      "metadata": {
        "id": "Ia5W7GjVaNSO"
      },
      "source": [
        "print(bin(True))\n",
        "print(bin(False))\n",
        "print(bin(10))\n",
        "print(bin(0b010))"
      ],
      "execution_count": null,
      "outputs": []
    },
    {
      "cell_type": "markdown",
      "metadata": {
        "id": "GhKuz0R7a8nh"
      },
      "source": [
        "### oct()\n",
        "\n",
        "* `oct()` 함수는 정수를 8진수 문자열로 변환\n",
        "* 불리언형, 정수형 등의 자료형을 8진수 표기인 '0o'가 붙은 형태의 문자열로 변환\n",
        "* `oct()` 함수를 이용해 `True`는 `0o1`로 출력되고, `False`는 `0o0`으로 출력하기\n",
        "* 10진수, 2진수, 8진수, 16진수 정수형도 8진수로 변환되어 출력"
      ]
    },
    {
      "cell_type": "code",
      "metadata": {
        "id": "hLc4zMe7a-L0"
      },
      "source": [
        "print(oct(True))\n",
        "print(oct(False))\n",
        "print(oct(10))\n",
        "print(oct(0b010))"
      ],
      "execution_count": null,
      "outputs": []
    },
    {
      "cell_type": "markdown",
      "metadata": {
        "id": "_fRnnZfPa59a"
      },
      "source": [
        "### hex()\n",
        "\n",
        "* `hex()` 함수는 정수를 16진수 문자열로 변환\n",
        "* 주어진 자료형을 16진수 표기인 '0x'가 붙은 16진수 형태의 문자열로 변환\n",
        "* 불리언형과 정수형 모두 16진수 표기의 문자열로 변환하기\n"
      ]
    },
    {
      "cell_type": "code",
      "metadata": {
        "id": "w_hQsUVTa8Mi"
      },
      "source": [
        "# 위의 oct 코드를 복사해서 hex 코드를 확인해보세요"
      ],
      "execution_count": null,
      "outputs": []
    },
    {
      "cell_type": "markdown",
      "metadata": {
        "id": "algkb-Zv_v3y"
      },
      "source": [
        "### bytes()\n",
        "\n",
        "* `bytes()` 함수는 자료형을 바이트형으로 변환\n",
        "* 객체를 바이트 객체로 변환"
      ]
    },
    {
      "cell_type": "code",
      "metadata": {
        "id": "fBuAnYJQ_wp0"
      },
      "source": [
        "print(bytes(True))\n",
        "print(bytes([1,2,3]))"
      ],
      "execution_count": null,
      "outputs": []
    },
    {
      "cell_type": "markdown",
      "metadata": {
        "id": "6Ow3gwEoBhLt"
      },
      "source": [
        "### bytearray()\n",
        "\n",
        "* `bytearray()` 함수는 자료형을 변경가능한 바이트형으로 변환"
      ]
    },
    {
      "cell_type": "code",
      "metadata": {
        "id": "g81YWjlACBuI"
      },
      "source": [
        "ba = bytearray(b'hello')\n",
        "ba[0] = ord('H')\n",
        "print(ba)\n",
        "\n",
        "ba1 = bytearray([1,2,3])\n",
        "print(ba)\n",
        "ba1[0] = 4\n",
        "print(ba1)\n",
        "print(type(ba1))"
      ],
      "execution_count": null,
      "outputs": []
    },
    {
      "cell_type": "markdown",
      "metadata": {
        "id": "aP84dGJOEDpt"
      },
      "source": [
        "### memoryview()\n",
        "\n",
        "* 바이트 자료형을 메모리의 이진 데이터로 변환한 자료형"
      ]
    },
    {
      "cell_type": "code",
      "metadata": {
        "id": "MxbONoOsEEKH"
      },
      "source": [
        "ba = bytearray(b'hello')\n",
        "mv = memoryview(ba)\n",
        "ba[0] = 72 #아스키 코드로 H "
      ],
      "execution_count": null,
      "outputs": []
    },
    {
      "cell_type": "markdown",
      "metadata": {
        "id": "TUtif65eQ4kN"
      },
      "source": [
        "## 자료형 계산"
      ]
    },
    {
      "cell_type": "markdown",
      "metadata": {
        "id": "C3IjTWeSRHWa"
      },
      "source": [
        "### min()\n",
        "\n",
        "* 입력된 값들 중에서 가장 작은 값을 반환하는 함수"
      ]
    },
    {
      "cell_type": "code",
      "metadata": {
        "id": "MCgOSP0qRKfn",
        "colab": {
          "base_uri": "https://localhost:8080/"
        },
        "outputId": "deb25cde-dd5c-49b2-f55a-4843d81ec78e"
      },
      "source": [
        "# 1,2,3 에서 어떤게 가장 작은 값인지 출력해보세요\n",
        "# 리스트 자료형 [ 3, 4, 5] 에서 어떤게 가장 작은 값인지 출력해보세요\n",
        "a = [3, 4, 5]\n",
        "print(min(a))"
      ],
      "execution_count": 41,
      "outputs": [
        {
          "output_type": "stream",
          "text": [
            "1\n"
          ],
          "name": "stdout"
        }
      ]
    },
    {
      "cell_type": "markdown",
      "metadata": {
        "id": "cMVIBtqRRvg0"
      },
      "source": [
        "### max()\n",
        "\n",
        "* 입력된 값들 중에서 가장 큰 값을 반환하는 함수"
      ]
    },
    {
      "cell_type": "code",
      "metadata": {
        "id": "GZfgc91LRzda",
        "colab": {
          "base_uri": "https://localhost:8080/"
        },
        "outputId": "8c1f8b67-3548-4b79-87bb-dfafd4762d34"
      },
      "source": [
        "# 1,2,3 에서 어떤게 가장 큰 값인지 출력해보세요\n",
        "# 리스트 자료형 [ 3, 4, 5] 에서 어떤게 가장 큰 값인지 출력해보세요\n",
        "a = [3, 4, 5]\n",
        "print(max(a))"
      ],
      "execution_count": 42,
      "outputs": [
        {
          "output_type": "stream",
          "text": [
            "5\n"
          ],
          "name": "stdout"
        }
      ]
    },
    {
      "cell_type": "markdown",
      "metadata": {
        "id": "OcnIj5EjR_JJ"
      },
      "source": [
        "### sum()\n",
        "\n",
        "* 입력된 값들의 전체 합을 반환"
      ]
    },
    {
      "cell_type": "code",
      "metadata": {
        "id": "FRnME2kiSETx",
        "colab": {
          "base_uri": "https://localhost:8080/"
        },
        "outputId": "f8dc44b7-bb2f-4545-aa81-2fa650a25460"
      },
      "source": [
        "print(sum((1,2,3)))\n",
        "print(sum([3,4,5]))"
      ],
      "execution_count": 44,
      "outputs": [
        {
          "output_type": "stream",
          "text": [
            "6\n",
            "12\n"
          ],
          "name": "stdout"
        }
      ]
    },
    {
      "cell_type": "markdown",
      "metadata": {
        "id": "6t8L1aUkSfuG"
      },
      "source": [
        "### divmod()\n",
        "\n",
        "* 나눈 값과 나머지 값을 쌍으로 반환\n",
        "* `(a // b, a % b)`와 동일한 값"
      ]
    },
    {
      "cell_type": "code",
      "metadata": {
        "id": "0tEUJTJ5Smt_",
        "colab": {
          "base_uri": "https://localhost:8080/"
        },
        "outputId": "a46c4d1c-bac2-47d4-f257-702c31018af4"
      },
      "source": [
        "print(divmod(10, 5)) # 10을 5로 나눈 몫과 나머지\n",
        "# 3을 5로 나눈 몫과 나머지를 출력해주세요\n",
        "print(divmod(3, 5))"
      ],
      "execution_count": 45,
      "outputs": [
        {
          "output_type": "stream",
          "text": [
            "(2, 0)\n",
            "(0, 3)\n"
          ],
          "name": "stdout"
        }
      ]
    },
    {
      "cell_type": "markdown",
      "metadata": {
        "id": "bA34pYq5TOBo"
      },
      "source": [
        "### abs()\n",
        "\n",
        "* 절대값 $|x|$으로 반환 "
      ]
    },
    {
      "cell_type": "code",
      "metadata": {
        "id": "k9Tk7j77TRdM",
        "colab": {
          "base_uri": "https://localhost:8080/"
        },
        "outputId": "dc57f442-f2d9-413d-d1e8-d4787b592f44"
      },
      "source": [
        "# -4를 절대값으로 반환해보세요 \n",
        "abs(-4)"
      ],
      "execution_count": 46,
      "outputs": [
        {
          "output_type": "execute_result",
          "data": {
            "text/plain": [
              "4"
            ]
          },
          "metadata": {
            "tags": []
          },
          "execution_count": 46
        }
      ]
    },
    {
      "cell_type": "markdown",
      "metadata": {
        "id": "um3henXBThud"
      },
      "source": [
        "### pow()\n",
        "\n",
        "* 지수승의 값 $a^b$으로 반환"
      ]
    },
    {
      "cell_type": "code",
      "metadata": {
        "id": "leZovwlVT-Yl",
        "colab": {
          "base_uri": "https://localhost:8080/"
        },
        "outputId": "bf49133b-4a84-411c-a60a-afdc0a1559bb"
      },
      "source": [
        "print(pow(2,3))   # 2의 3승을 출력\n",
        "# 10의 4승을 출력해주세요   \n",
        "print(pow(10,4))"
      ],
      "execution_count": 47,
      "outputs": [
        {
          "output_type": "stream",
          "text": [
            "8\n",
            "10000\n"
          ],
          "name": "stdout"
        }
      ]
    },
    {
      "cell_type": "markdown",
      "metadata": {
        "id": "W4b6TVEIU2gw"
      },
      "source": [
        "### len()\n",
        "\n",
        "* 다양한 시퀀스의 갯수를 반환"
      ]
    },
    {
      "cell_type": "code",
      "metadata": {
        "id": "NIzuE0EVU6yC",
        "colab": {
          "base_uri": "https://localhost:8080/"
        },
        "outputId": "9979fbab-7c22-4c65-c2b0-805fbfa2ee56"
      },
      "source": [
        "# \"안녕하세요\"의 글자가 몇개인지 출력해주세요\n",
        "# range(0,10)의 원소 갯수가 몇개인지 출력해주세요\n",
        "# range(1,11)의 원소 갯수가 몇개인지 출력해주세요\n",
        "len(\"안녕하세요\")\n",
        "len(range(0,10))\n",
        "len(range(1,11))"
      ],
      "execution_count": 51,
      "outputs": [
        {
          "output_type": "execute_result",
          "data": {
            "text/plain": [
              "10"
            ]
          },
          "metadata": {
            "tags": []
          },
          "execution_count": 51
        }
      ]
    },
    {
      "cell_type": "markdown",
      "metadata": {
        "id": "Me-tvSeTVF3I"
      },
      "source": [
        "### round()\n",
        "\n",
        "* 소수점 뒤를 반올림한 값을 반환"
      ]
    },
    {
      "cell_type": "code",
      "metadata": {
        "id": "l1m2_f7dVJky",
        "colab": {
          "base_uri": "https://localhost:8080/"
        },
        "outputId": "f94a3efa-10eb-4a0e-89c8-0f72eabbe72d"
      },
      "source": [
        "# 3.14 값을 반올림하여 출력해주세요 \n",
        "# 3.141527의 값을 소수점 2번째 자리까지 반올림해주세요\n",
        "round(3.14)\n",
        "round(3.141527, 2)"
      ],
      "execution_count": 53,
      "outputs": [
        {
          "output_type": "execute_result",
          "data": {
            "text/plain": [
              "3.14"
            ]
          },
          "metadata": {
            "tags": []
          },
          "execution_count": 53
        }
      ]
    },
    {
      "cell_type": "markdown",
      "metadata": {
        "id": "F39_FXWHVVKh"
      },
      "source": [
        "### all()\n",
        "\n",
        "* 모든 값이 `True` 이거나 비어있을 때 `True` 반환"
      ]
    },
    {
      "cell_type": "code",
      "metadata": {
        "id": "ndPHacrvVbeS",
        "colab": {
          "base_uri": "https://localhost:8080/"
        },
        "outputId": "701f3224-3a4c-4756-e196-7863f07c76a1"
      },
      "source": [
        "print(all((1,2,3)))\n",
        "print(all(()))\n",
        "\n",
        "print(all((False, True, False)))\n",
        "print(all((False, False, False))) # 여기서 오류가나는데 수정해보세요! "
      ],
      "execution_count": 54,
      "outputs": [
        {
          "output_type": "stream",
          "text": [
            "True\n",
            "True\n",
            "False\n",
            "False\n"
          ],
          "name": "stdout"
        }
      ]
    },
    {
      "cell_type": "markdown",
      "metadata": {
        "id": "fanBFnO1V0Zu"
      },
      "source": [
        "### any()\n",
        "\n",
        "* 어떤 값이 `True` 이면 `True` 반환\n",
        "* 값이 비어있으면 `False` 반환"
      ]
    },
    {
      "cell_type": "code",
      "metadata": {
        "id": "oA6TIhIoV5gF",
        "colab": {
          "base_uri": "https://localhost:8080/"
        },
        "outputId": "bcff6f6c-e21f-4c02-d690-3c9f7e6429c3"
      },
      "source": [
        "print(any((1,2,3)))\n",
        "print(any(()))\n",
        "\n",
        "print(any((False, True, False)))\n",
        "print(any((False, False, False)))"
      ],
      "execution_count": null,
      "outputs": [
        {
          "output_type": "stream",
          "text": [
            "True\n",
            "False\n",
            "True\n",
            "False\n"
          ],
          "name": "stdout"
        }
      ]
    },
    {
      "cell_type": "markdown",
      "metadata": {
        "id": "D_yWm1gBEo4p"
      },
      "source": [
        "\n",
        "\n",
        "---\n",
        "\n"
      ]
    },
    {
      "cell_type": "markdown",
      "metadata": {
        "id": "mypjHsFSEtLz"
      },
      "source": [
        "# 연산자(Operators)\n",
        "\n"
      ]
    },
    {
      "cell_type": "markdown",
      "metadata": {
        "id": "5vw1RQEmFpTn"
      },
      "source": [
        "## 산술 연산자(Arithmetic Operators)\n",
        "\n",
        "![](https://mblogthumb-phinf.pstatic.net/MjAxNzA3MThfMTcy/MDAxNTAwMzA2NTg0MDkx.X65rSudQIdMx0KIhdue2UnGYFU5ArkVdcx-067PCcm8g.agfEGKjBoH-vNtfAEimBSjvR72sHnKXDdooS2nqbUi4g.PNG.heartflow89/image.png?type=w800)\n"
      ]
    },
    {
      "cell_type": "code",
      "metadata": {
        "id": "iaozGCpH-Sze",
        "colab": {
          "base_uri": "https://localhost:8080/"
        },
        "outputId": "d5f3bfcd-0b68-4c2d-979b-78bfc3fe920e"
      },
      "source": [
        "cal1 = 3\n",
        "cal2 = 5\n",
        "# 산술연산자를 종류별로 작성해주세요\n",
        "print(cal1+cal2)\n",
        "print(cal1-cal2)\n",
        "print(cal1*cal2)\n",
        "print(cal1**cal2)\n",
        "print(cal1/cal2)\n",
        "print(cal1//cal2)\n",
        "print(cal1%cal2)"
      ],
      "execution_count": 56,
      "outputs": [
        {
          "output_type": "stream",
          "text": [
            "8\n",
            "-2\n",
            "15\n",
            "243\n",
            "0.6\n",
            "0\n",
            "3\n"
          ],
          "name": "stdout"
        }
      ]
    },
    {
      "cell_type": "markdown",
      "metadata": {
        "id": "BbNJjYvkSzyQ"
      },
      "source": [
        "## 비교 연산자(Comparison Operators)\n",
        "\n",
        "![](https://mblogthumb-phinf.pstatic.net/MjAxNzA3MThfMjMw/MDAxNTAwMzA4MjIwMjQ2.MPFU3AZHD3Nt55rFcU0gFoRcTPXYM41kyhe1OqDfPqAg.2-ZVQQbQonKM7CUYYSger4jwZLUOEljdv9FCs79ePWwg.PNG.heartflow89/image.png?type=w800)\n",
        "\n"
      ]
    },
    {
      "cell_type": "code",
      "metadata": {
        "id": "EZELCQFgPmgI",
        "colab": {
          "base_uri": "https://localhost:8080/"
        },
        "outputId": "6d837114-a630-4469-ec64-8ddc0239a607"
      },
      "source": [
        "cal1 = 3\n",
        "cal2 = 5\n",
        "#비교연산자를 종류별로 작성해주세요\n",
        "print(cal1==cal2)\n",
        "print(cal1!=cal2)\n",
        "print(cal1>cal2)\n",
        "print(cal1<cal2)\n",
        "print(cal1>=cal2)\n",
        "print(cal1<=cal2)"
      ],
      "execution_count": 57,
      "outputs": [
        {
          "output_type": "stream",
          "text": [
            "False\n",
            "True\n",
            "False\n",
            "True\n",
            "False\n",
            "True\n"
          ],
          "name": "stdout"
        }
      ]
    },
    {
      "cell_type": "markdown",
      "metadata": {
        "id": "aKigU9vxWMPE"
      },
      "source": [
        "## 할당 연산자(Assignment Operators)\n",
        "\n",
        "![](https://media.vlpt.us/images/joygoround/post/05a29845-8dad-4b3a-ab7c-f2bcef61bff1/image.png)\n"
      ]
    },
    {
      "cell_type": "code",
      "metadata": {
        "id": "8kQmBvcgVZag",
        "colab": {
          "base_uri": "https://localhost:8080/"
        },
        "outputId": "26e23540-cc21-4a8c-a2bd-788ed4828b74"
      },
      "source": [
        "cal1 = 3\n",
        "cal2 = 5\n",
        "cal3 = 7\n",
        "#할당연산자를 종류별로 작성해주세요\n",
        "c = cal1+cal2\n",
        "print(c)\n",
        "c+= cal3\n",
        "print(c)\n",
        "c*=cal1\n",
        "print(c)\n",
        "c /= cal3\n",
        "print(c)\n",
        "c %= cal3\n",
        "print(c)\n",
        "cal1 **= cal2\n",
        "print(cal1)\n",
        "cal1 //= cal2\n",
        "print(cal1)"
      ],
      "execution_count": 62,
      "outputs": [
        {
          "output_type": "stream",
          "text": [
            "8\n",
            "15\n",
            "45\n",
            "6.428571428571429\n",
            "6.428571428571429\n",
            "243\n",
            "48\n"
          ],
          "name": "stdout"
        }
      ]
    },
    {
      "cell_type": "markdown",
      "metadata": {
        "id": "fEbvvt68ZEkR"
      },
      "source": [
        "## 비트 연산자(Bitwise Operators)\n",
        "\n",
        "![](https://post-phinf.pstatic.net/MjAxODAxMjNfMjA2/MDAxNTE2Njk1Nzc4NjYy.Fn4jJtua7Q3LoX3bKjdtfKEHUyfm7tPsIozGeHMlf7Qg.KqZziVebI90W8rzXQyhhJ-bUSa4ZyOgP9hKzvvsNZJUg.JPEG/%ED%8C%8C%EC%9D%B4%EC%8D%AC_%EA%B8%B0%EC%B4%88_%EC%97%B0%EC%82%B0%EC%9E%90_%EA%B3%B5%EB%B6%80%ED%95%98%EA%B8%B06.jpg?type=w1200)"
      ]
    },
    {
      "cell_type": "code",
      "metadata": {
        "id": "p7Py0jU6Xb-Y",
        "colab": {
          "base_uri": "https://localhost:8080/"
        },
        "outputId": "86bdba64-39cd-4675-fd7e-8020846f2936"
      },
      "source": [
        "cal1 = 3\n",
        "cal2 = 5\n",
        "cal3 = 7\n",
        "#비트연산자를 종류별로 작성해주세요\n",
        "cal1 & cal2\n",
        "cal1 | cal2\n",
        "cal1 ^ cal2\n",
        "cal1 << cal2\n",
        "cal1 >> cal2"
      ],
      "execution_count": 63,
      "outputs": [
        {
          "output_type": "execute_result",
          "data": {
            "text/plain": [
              "0"
            ]
          },
          "metadata": {
            "tags": []
          },
          "execution_count": 63
        }
      ]
    },
    {
      "cell_type": "markdown",
      "metadata": {
        "id": "mTlDlBfHb56x"
      },
      "source": [
        "## 논리 연산자(Logical Operators)\n",
        "\n",
        "![](https://mblogthumb-phinf.pstatic.net/MjAxNzA3MThfMjQ0/MDAxNTAwMzA4NzA2MzA3.mt1HrzXg6RQ33NnuqtivFiwo3ZPhGuks7hAPi--5Izwg.mN15JS00vShliL9Bbdi7yw2ZTntwEWsaUHaPqaeB9Fsg.PNG.heartflow89/image.png?type=w800)\n"
      ]
    },
    {
      "cell_type": "code",
      "metadata": {
        "id": "h_cAKWdLbRrT",
        "colab": {
          "base_uri": "https://localhost:8080/"
        },
        "outputId": "0137eeb1-8536-47e0-9098-3de830989157"
      },
      "source": [
        "cal1 = 3\n",
        "cal2 = 5\n",
        "cal3 = 7\n",
        "#논리연산자를 종류별로 작성해주세요\n",
        "cal1 and cal2\n",
        "cal1 or cal3\n",
        "not cal3 "
      ],
      "execution_count": 64,
      "outputs": [
        {
          "output_type": "execute_result",
          "data": {
            "text/plain": [
              "False"
            ]
          },
          "metadata": {
            "tags": []
          },
          "execution_count": 64
        }
      ]
    },
    {
      "cell_type": "markdown",
      "metadata": {
        "id": "7YkZ_IM1cqO_"
      },
      "source": [
        "## 멤버 연산자(Membership Operators)\n",
        "\n",
        "![](https://post-phinf.pstatic.net/MjAxODAxMjNfMTQz/MDAxNTE2Njk1Nzc4NTE1.0mES7qQvfezi2NoKqR8grLWuPn7sUh4FYwU0H7CmlrMg.sl3Kln9N5iQhYXhqC58471DcsOpjZHIw_igoNmsaeaYg.JPEG/%ED%8C%8C%EC%9D%B4%EC%8D%AC_%EA%B8%B0%EC%B4%88_%EC%97%B0%EC%82%B0%EC%9E%90_%EA%B3%B5%EB%B6%80%ED%95%98%EA%B8%B04.jpg?type=w1200)\n"
      ]
    },
    {
      "cell_type": "code",
      "metadata": {
        "id": "7ZOrVkhMcfUE",
        "colab": {
          "base_uri": "https://localhost:8080/"
        },
        "outputId": "3b4de5e1-465c-40d3-84b8-760d63fa15d7"
      },
      "source": [
        "cal1 = 3\n",
        "cal2 = 5\n",
        "ㅣ_1 = [3,4,8]\n",
        "#  리스트 l_1 안의 cal1과 cal2의 여부를 확인해주세요\n",
        "ㅣ_1 in(cal1,cal2)"
      ],
      "execution_count": 66,
      "outputs": [
        {
          "output_type": "execute_result",
          "data": {
            "text/plain": [
              "False"
            ]
          },
          "metadata": {
            "tags": []
          },
          "execution_count": 66
        }
      ]
    },
    {
      "cell_type": "markdown",
      "metadata": {
        "id": "rolPOjSYdQvA"
      },
      "source": [
        "## 식별 연산자(Identity Operators)\n",
        "\n",
        "![](https://post-phinf.pstatic.net/MjAxODAxMjNfMTI1/MDAxNTE2Njk1Nzc4NTEw.cqVjJjZKaAyFEOgBjit5uTM2v7MrtfPRPJqrWNOMA6Eg.OpNAH_isNrwqP9sjD1rQbCrTB60lNynRYgJRA9rcx1og.JPEG/%ED%8C%8C%EC%9D%B4%EC%8D%AC_%EA%B8%B0%EC%B4%88_%EC%97%B0%EC%82%B0%EC%9E%90_%EA%B3%B5%EB%B6%80%ED%95%98%EA%B8%B05.jpg?type=w1200)\n"
      ]
    },
    {
      "cell_type": "code",
      "metadata": {
        "id": "tZ5C_GI_dChN",
        "colab": {
          "base_uri": "https://localhost:8080/"
        },
        "outputId": "011cc283-89a5-45e4-bc69-e62f0abf75c7"
      },
      "source": [
        "cal1 = 3\n",
        "cal2 = 5\n",
        "#식별연산자를 종류별로 작성해주세요\n",
        "type(cal1) is int\n",
        "type(cal2) is not int"
      ],
      "execution_count": 68,
      "outputs": [
        {
          "output_type": "execute_result",
          "data": {
            "text/plain": [
              "False"
            ]
          },
          "metadata": {
            "tags": []
          },
          "execution_count": 68
        }
      ]
    },
    {
      "cell_type": "markdown",
      "metadata": {
        "id": "LzVazq4W6o0b"
      },
      "source": [
        "## 연산자 우선순위\n",
        "\n",
        "- 여러 연산자들이 사용되면 어떤 연산자들이 우선되는지를 결정하기 위해 우선순위가 존재\n",
        "- 가장 높은 우선순위: 괄호\n",
        "- 가장 낮은 우선순위: 논리연산자\n",
        "\n",
        "![](https://user-images.githubusercontent.com/32065940/78031846-13f46700-739f-11ea-88ec-31d8f3bb1c30.png)\n"
      ]
    },
    {
      "cell_type": "markdown",
      "metadata": {
        "id": "EkEFTFis-ceY"
      },
      "source": [
        "# 문제 풀기"
      ]
    },
    {
      "cell_type": "markdown",
      "metadata": {
        "id": "BNL9EjqM_RZH"
      },
      "source": [
        "### 다음 과목 점수의 평균을 구해서 출력하기\n",
        "조건: 산술연산자 이용"
      ]
    },
    {
      "cell_type": "code",
      "metadata": {
        "id": "-xXkhFvK-m4N",
        "colab": {
          "base_uri": "https://localhost:8080/"
        },
        "outputId": "1a0d1c93-b4e8-4f61-da00-0cce7c12fba0"
      },
      "source": [
        "linear_algebra = 88\n",
        "statistics = 91\n",
        "basic_programming = 89\n",
        "science = 83\n",
        "average = sum([linear_algebra, statistics, basic_programming, science]) / 4\n",
        "print(average)"
      ],
      "execution_count": 73,
      "outputs": [
        {
          "output_type": "stream",
          "text": [
            "87.75\n"
          ],
          "name": "stdout"
        }
      ]
    }
  ]
}